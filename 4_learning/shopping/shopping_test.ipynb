{
 "metadata": {
  "language_info": {
   "codemirror_mode": {
    "name": "ipython",
    "version": 3
   },
   "file_extension": ".py",
   "mimetype": "text/x-python",
   "name": "python",
   "nbconvert_exporter": "python",
   "pygments_lexer": "ipython3",
   "version": "3.7.3-final"
  },
  "orig_nbformat": 2,
  "kernelspec": {
   "name": "python3",
   "display_name": "Python 3"
  }
 },
 "nbformat": 4,
 "nbformat_minor": 2,
 "cells": [
  {
   "cell_type": "code",
   "execution_count": 68,
   "metadata": {},
   "outputs": [],
   "source": [
    "import csv\n",
    "import pandas as pd\n",
    "from sklearn.model_selection import train_test_split\n",
    "from sklearn.neighbors import KNeighborsClassifier"
   ]
  },
  {
   "cell_type": "code",
   "execution_count": 3,
   "metadata": {},
   "outputs": [],
   "source": [
    "df = pd.read_csv('shopping.csv')"
   ]
  },
  {
   "cell_type": "code",
   "execution_count": 40,
   "metadata": {},
   "outputs": [
    {
     "output_type": "execute_result",
     "data": {
      "text/plain": "Administrative               int64\nAdministrative_Duration    float64\nInformational                int64\nInformational_Duration     float64\nProductRelated               int64\nProductRelated_Duration    float64\nBounceRates                float64\nExitRates                  float64\nPageValues                 float64\nSpecialDay                 float64\nMonth                        int64\nOperatingSystems             int64\nBrowser                      int64\nRegion                       int64\nTrafficType                  int64\nVisitorType                  int64\nWeekend                      int64\nRevenue                      int64\ndtype: object"
     },
     "metadata": {},
     "execution_count": 40
    }
   ],
   "source": [
    "df.dtypes"
   ]
  },
  {
   "cell_type": "code",
   "execution_count": 26,
   "metadata": {},
   "outputs": [],
   "source": [
    "df.Month.replace({'Jan': 0, 'Feb': 1, 'Mar': 2, 'Apr': 3, 'May': 4, 'Oct': 9, 'June': 5, 'Jul': 6, 'Aug': 7, 'Nov': 10, 'Sep': 8, 'Dec': 11}, inplace=True)"
   ]
  },
  {
   "cell_type": "code",
   "execution_count": 29,
   "metadata": {},
   "outputs": [
    {
     "output_type": "execute_result",
     "data": {
      "text/plain": "array([&#39;Returning_Visitor&#39;, &#39;New_Visitor&#39;, &#39;Other&#39;], dtype=object)"
     },
     "metadata": {},
     "execution_count": 29
    }
   ],
   "source": [
    "df.VisitorType.unique()"
   ]
  },
  {
   "cell_type": "code",
   "execution_count": 35,
   "metadata": {},
   "outputs": [],
   "source": [
    "df.VisitorType.replace({'Returning_Visitor': 1, 'New_Visitor': 0, 'Other': 0}, inplace=True)"
   ]
  },
  {
   "cell_type": "code",
   "execution_count": 39,
   "metadata": {},
   "outputs": [],
   "source": [
    "df.Weekend.replace({True: 1, False: 0}, inplace=True)\n",
    "df.Revenue.replace({True: 1, False: 0}, inplace=True)"
   ]
  },
  {
   "cell_type": "code",
   "execution_count": 41,
   "metadata": {},
   "outputs": [
    {
     "output_type": "execute_result",
     "data": {
      "text/plain": "Index([&#39;Administrative&#39;, &#39;Administrative_Duration&#39;, &#39;Informational&#39;,\n       &#39;Informational_Duration&#39;, &#39;ProductRelated&#39;, &#39;ProductRelated_Duration&#39;,\n       &#39;BounceRates&#39;, &#39;ExitRates&#39;, &#39;PageValues&#39;, &#39;SpecialDay&#39;, &#39;Month&#39;,\n       &#39;OperatingSystems&#39;, &#39;Browser&#39;, &#39;Region&#39;, &#39;TrafficType&#39;, &#39;VisitorType&#39;,\n       &#39;Weekend&#39;, &#39;Revenue&#39;],\n      dtype=&#39;object&#39;)"
     },
     "metadata": {},
     "execution_count": 41
    }
   ],
   "source": [
    "df.columns"
   ]
  },
  {
   "cell_type": "code",
   "execution_count": 44,
   "metadata": {},
   "outputs": [],
   "source": [
    "X = df[['Administrative', 'Administrative_Duration', 'Informational',\n",
    "       'Informational_Duration', 'ProductRelated', 'ProductRelated_Duration',\n",
    "       'BounceRates', 'ExitRates', 'PageValues', 'SpecialDay', 'Month',\n",
    "       'OperatingSystems', 'Browser', 'Region', 'TrafficType', 'VisitorType',\n",
    "       'Weekend']]"
   ]
  },
  {
   "cell_type": "code",
   "execution_count": 61,
   "metadata": {},
   "outputs": [],
   "source": [
    "y = df['Revenue'].values"
   ]
  },
  {
   "cell_type": "code",
   "execution_count": 62,
   "metadata": {},
   "outputs": [],
   "source": [
    "X_train, X_test, y_train, y_test = train_test_split(\n",
    "        X, y, test_size=0.4\n",
    "    )"
   ]
  },
  {
   "cell_type": "code",
   "execution_count": 55,
   "metadata": {},
   "outputs": [],
   "source": [
    "model = KNeighborsClassifier(n_neighbors=1)"
   ]
  },
  {
   "cell_type": "code",
   "execution_count": 78,
   "metadata": {},
   "outputs": [],
   "source": [
    "new = model.fit(X_train, y_train)"
   ]
  },
  {
   "cell_type": "code",
   "execution_count": 82,
   "metadata": {},
   "outputs": [
    {
     "output_type": "execute_result",
     "data": {
      "text/plain": "0.822992700729927"
     },
     "metadata": {},
     "execution_count": 82
    }
   ],
   "source": [
    "new.score(X_test, y_test)"
   ]
  },
  {
   "cell_type": "code",
   "execution_count": 79,
   "metadata": {},
   "outputs": [],
   "source": [
    "predictions = new.predict(X_test)"
   ]
  },
  {
   "cell_type": "code",
   "execution_count": 80,
   "metadata": {},
   "outputs": [
    {
     "output_type": "execute_result",
     "data": {
      "text/plain": "4059"
     },
     "metadata": {},
     "execution_count": 80
    }
   ],
   "source": [
    "(predictions == y_test).sum()"
   ]
  },
  {
   "cell_type": "code",
   "execution_count": 81,
   "metadata": {},
   "outputs": [
    {
     "output_type": "execute_result",
     "data": {
      "text/plain": "873"
     },
     "metadata": {},
     "execution_count": 81
    }
   ],
   "source": [
    "(predictions != y_test).sum()"
   ]
  },
  {
   "cell_type": "code",
   "execution_count": 74,
   "metadata": {},
   "outputs": [],
   "source": [
    "total_pos = 0\n",
    "total_neg = 0\n",
    "pred_pos = 0\n",
    "pred_neg = 0"
   ]
  },
  {
   "cell_type": "code",
   "execution_count": 75,
   "metadata": {},
   "outputs": [],
   "source": [
    "for i, j in zip(predictions, y_test):\n",
    "    if j:\n",
    "        if i:\n",
    "            pred_pos += 1\n",
    "        total_pos += 1\n",
    "    else:\n",
    "        total_neg += 1\n",
    "        if i:\n",
    "            continue\n",
    "        pred_neg += 1"
   ]
  },
  {
   "cell_type": "code",
   "execution_count": 76,
   "metadata": {},
   "outputs": [
    {
     "output_type": "execute_result",
     "data": {
      "text/plain": "0.37279596977329976"
     },
     "metadata": {},
     "execution_count": 76
    }
   ],
   "source": [
    "pred_pos/total_pos"
   ]
  },
  {
   "cell_type": "code",
   "execution_count": 77,
   "metadata": {},
   "outputs": [
    {
     "output_type": "execute_result",
     "data": {
      "text/plain": "0.9093765103914935"
     },
     "metadata": {},
     "execution_count": 77
    }
   ],
   "source": [
    "pred_neg/total_neg"
   ]
  },
  {
   "cell_type": "code",
   "execution_count": null,
   "metadata": {},
   "outputs": [],
   "source": []
  }
 ]
}