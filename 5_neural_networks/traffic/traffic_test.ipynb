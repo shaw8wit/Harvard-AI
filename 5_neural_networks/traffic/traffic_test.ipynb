{
 "metadata": {
  "language_info": {
   "codemirror_mode": {
    "name": "ipython",
    "version": 3
   },
   "file_extension": ".py",
   "mimetype": "text/x-python",
   "name": "python",
   "nbconvert_exporter": "python",
   "pygments_lexer": "ipython3",
   "version": "3.7.3-final"
  },
  "orig_nbformat": 2,
  "kernelspec": {
   "name": "python3",
   "display_name": "Python 3"
  }
 },
 "nbformat": 4,
 "nbformat_minor": 2,
 "cells": [
  {
   "cell_type": "code",
   "execution_count": 4,
   "metadata": {},
   "outputs": [],
   "source": [
    "import os\n",
    "import sys\n",
    "import cv2\n",
    "import glob\n",
    "import numpy as np\n",
    "import tensorflow as tf\n",
    "\n",
    "from sklearn.model_selection import train_test_split\n",
    "\n",
    "EPOCHS = 10\n",
    "IMG_WIDTH = 30\n",
    "IMG_HEIGHT = 30\n",
    "NUM_CATEGORIES = 43\n",
    "TEST_SIZE = 0.4"
   ]
  },
  {
   "cell_type": "code",
   "execution_count": 5,
   "metadata": {},
   "outputs": [],
   "source": [
    "data_dir = 'gtsrb'\n",
    "images = []\n",
    "labels = []\n",
    "for i in range(NUM_CATEGORIES):\n",
    "    for path in glob.glob(f'{data_dir}/{i}/*.ppm'):\n",
    "        img = cv2.imread(path)\n",
    "        re_img = cv2.resize(img, (IMG_HEIGHT, IMG_WIDTH))\n",
    "        images.append(re_img)\n",
    "        labels.append(i)"
   ]
  },
  {
   "cell_type": "code",
   "execution_count": 6,
   "metadata": {},
   "outputs": [],
   "source": [
    "labels = tf.keras.utils.to_categorical(labels)\n",
    "x_train, x_test, y_train, y_test = train_test_split(np.array(images), np.array(labels), test_size=TEST_SIZE)"
   ]
  },
  {
   "cell_type": "code",
   "execution_count": 18,
   "metadata": {},
   "outputs": [],
   "source": [
    "model = tf.keras.models.Sequential([\n",
    "        tf.keras.layers.Conv2D(32, (3, 3), activation=\"relu\", input_shape=(IMG_WIDTH, IMG_HEIGHT, 3)),\n",
    "        tf.keras.layers.MaxPooling2D(pool_size=(2, 2)),\n",
    "        tf.keras.layers.Conv2D(64, (3, 3), activation=\"relu\"),\n",
    "        tf.keras.layers.MaxPooling2D(pool_size=(2, 2)),\n",
    "        tf.keras.layers.Flatten(),\n",
    "        tf.keras.layers.Dense(128, activation=\"relu\"),\n",
    "        tf.keras.layers.Dense(64, activation=\"relu\"),\n",
    "        tf.keras.layers.Dropout(0.33),\n",
    "        tf.keras.layers.Dense(NUM_CATEGORIES, activation=\"softmax\")\n",
    "    ])"
   ]
  },
  {
   "cell_type": "code",
   "execution_count": 19,
   "metadata": {},
   "outputs": [],
   "source": [
    "model.compile(\n",
    "    optimizer=\"adam\",\n",
    "    loss=\"categorical_crossentropy\",\n",
    "    metrics=[\"accuracy\"]\n",
    ")"
   ]
  },
  {
   "cell_type": "code",
   "execution_count": 20,
   "metadata": {},
   "outputs": [
    {
     "output_type": "stream",
     "name": "stdout",
     "text": [
      "Train on 15984 samples\n",
      "Epoch 1/10\n",
      "15984/15984 [==============================] - 43s 3ms/sample - loss: 2.7020 - accuracy: 0.3380\n",
      "Epoch 2/10\n",
      "15984/15984 [==============================] - 41s 3ms/sample - loss: 1.2575 - accuracy: 0.6189\n",
      "Epoch 3/10\n",
      "15984/15984 [==============================] - 44s 3ms/sample - loss: 0.7402 - accuracy: 0.7734\n",
      "Epoch 4/10\n",
      "15984/15984 [==============================] - 43s 3ms/sample - loss: 0.4785 - accuracy: 0.8530\n",
      "Epoch 5/10\n",
      "15984/15984 [==============================] - 37s 2ms/sample - loss: 0.3643 - accuracy: 0.8924\n",
      "Epoch 6/10\n",
      "15984/15984 [==============================] - 38s 2ms/sample - loss: 0.2653 - accuracy: 0.9231\n",
      "Epoch 7/10\n",
      "15984/15984 [==============================] - 42s 3ms/sample - loss: 0.2386 - accuracy: 0.9324\n",
      "Epoch 8/10\n",
      "15984/15984 [==============================] - 41s 3ms/sample - loss: 0.1932 - accuracy: 0.9429\n",
      "Epoch 9/10\n",
      "15984/15984 [==============================] - 48s 3ms/sample - loss: 0.1954 - accuracy: 0.9461\n",
      "Epoch 10/10\n",
      "15984/15984 [==============================] - 56s 4ms/sample - loss: 0.1619 - accuracy: 0.9540\n",
      "10656/10656 - 13s - loss: 0.1325 - accuracy: 0.9718\n"
     ]
    },
    {
     "output_type": "execute_result",
     "data": {
      "text/plain": [
       "[0.13246203520481736, 0.971753]"
      ]
     },
     "metadata": {},
     "execution_count": 20
    }
   ],
   "source": [
    "model.fit(x_train, y_train, epochs=EPOCHS)\n",
    "model.evaluate(x_test,  y_test, verbose=2)"
   ]
  },
  {
   "cell_type": "code",
   "execution_count": 21,
   "metadata": {},
   "outputs": [
    {
     "output_type": "stream",
     "name": "stdout",
     "text": [
      "10656/10656 - 9s - loss: 0.1325 - accuracy: 0.9718\n"
     ]
    },
    {
     "output_type": "execute_result",
     "data": {
      "text/plain": [
       "[0.13246203520481736, 0.971753]"
      ]
     },
     "metadata": {},
     "execution_count": 21
    }
   ],
   "source": [
    "model.evaluate(x_test,  y_test, verbose=2)"
   ]
  },
  {
   "cell_type": "code",
   "execution_count": null,
   "metadata": {},
   "outputs": [],
   "source": []
  }
 ]
}